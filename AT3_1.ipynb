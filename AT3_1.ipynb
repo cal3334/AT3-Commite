{
 "cells": [
  {
   "cell_type": "code",
   "execution_count": 3,
   "id": "bc8c0b00-a8a2-4e12-93aa-a3eabb7d71b5",
   "metadata": {},
   "outputs": [
    {
     "name": "stderr",
     "output_type": "stream",
     "text": [
      "C:\\Users\\User\\anaconda3\\Lib\\site-packages\\pyogrio\\core.py:35: RuntimeWarning: Could not detect GDAL data files.  Set GDAL_DATA environment variable to the correct path.\n",
      "  _init_gdal_data()\n"
     ]
    },
    {
     "name": "stdout",
     "output_type": "stream",
     "text": [
      "A) Determine flight path bounding box — outputs\n",
      "------------------------------------------------\n",
      "Bounding Box (EPSG:7855):\n",
      "  Easting min:  467,724.652 m\n",
      "  Easting max:  468,410.536 m\n",
      "  Northing min: 5,225,706.246 m\n",
      "  Northing max: 5,226,080.720 m\n",
      "Heights:\n",
      "  Height min:   281.855 m\n",
      "  Height max:   304.533 m\n",
      "Timings:\n",
      "  Read .pos:          1.912 s\n",
      "  Calculations total: 2.451 s\n",
      "Total flight path length: 3,663.539 m\n",
      "GeoPackage written: uas_flight.gpkg (layer: flight_path)\n"
     ]
    }
   ],
   "source": [
    "# Task A – Determine flight path bounding box\n",
    "import time\n",
    "import pandas as pd\n",
    "import numpy as np\n",
    "from shapely.geometry import Point, LineString\n",
    "import geopandas as gpd\n",
    "import os\n",
    "\n",
    "# --- Paths ---\n",
    "pos_path = \"20200910_BlakesOpening_site3_flight1z.pos\"\n",
    "gpkg_path = \"uas_flight.gpkg\"\n",
    "layer_name = \"flight_path\"\n",
    "\n",
    "t0 = time.perf_counter()\n",
    "\n",
    "# --- Read .pos file ---\n",
    "col_names = [\n",
    "    \"timestamp\", \"lat\", \"lon\", \"height_m\",\n",
    "    \"Q\", \"Q_text\", \"sats\",\n",
    "    \"SDNorth_m\", \"SDEast_m\", \"SDHeight_m\", \"StdDev_m\"\n",
    "]\n",
    "\n",
    "df = pd.read_csv(\n",
    "    pos_path,\n",
    "    comment=\"%\",        # skip RTKLIB header rows\n",
    "    header=None,\n",
    "    names=col_names,\n",
    "    dtype={\n",
    "        \"lat\": float, \"lon\": float, \"height_m\": float,\n",
    "        \"Q\": \"Int64\", \"sats\": \"Int64\",\n",
    "        \"SDNorth_m\": float, \"SDEast_m\": float, \"SDHeight_m\": float, \"StdDev_m\": float\n",
    "    }\n",
    ")\n",
    "\n",
    "read_time = time.perf_counter() - t0\n",
    "\n",
    "# Drop rows without coordinates\n",
    "df = df.dropna(subset=[\"lat\", \"lon\"]).reset_index(drop=True)\n",
    "\n",
    "# --- Create GeoDataFrame in WGS84 (EPSG:7844) and project to MGA2020 / Zone 55 (EPSG:7855) ---\n",
    "gdf_wgs84 = gpd.GeoDataFrame(\n",
    "    df,\n",
    "    geometry=[Point(xy) for xy in zip(df[\"lon\"], df[\"lat\"])],\n",
    "    crs=\"EPSG:7844\"\n",
    ")\n",
    "gdf = gdf_wgs84.to_crs(\"EPSG:7855\")\n",
    "\n",
    "# --- Bounding box + height range ---\n",
    "minx, miny, maxx, maxy = gdf.total_bounds\n",
    "min_h = float(np.nanmin(gdf[\"height_m\"]))\n",
    "max_h = float(np.nanmax(gdf[\"height_m\"]))\n",
    "\n",
    "# --- LineString and length ---\n",
    "line = LineString(list(gdf.geometry.values))\n",
    "line_gdf = gpd.GeoDataFrame(\n",
    "    {\"total_length_m\": [line.length]},\n",
    "    geometry=[line],\n",
    "    crs=gdf.crs\n",
    ")\n",
    "\n",
    "# Save to GeoPackage\n",
    "if os.path.exists(gpkg_path):\n",
    "    os.remove(gpkg_path)\n",
    "line_gdf.to_file(gpkg_path, layer=layer_name, driver=\"GPKG\")\n",
    "\n",
    "calc_time = time.perf_counter() - t0 - read_time\n",
    "\n",
    "# --- Nicely formatted printouts ---\n",
    "def fmt_m(x): return f\"{x:,.3f} m\"\n",
    "\n",
    "print(\"A) Determine flight path bounding box — outputs\")\n",
    "print(\"------------------------------------------------\")\n",
    "print(\"Bounding Box (EPSG:7855):\")\n",
    "print(f\"  Easting min:  {fmt_m(minx)}\")\n",
    "print(f\"  Easting max:  {fmt_m(maxx)}\")\n",
    "print(f\"  Northing min: {fmt_m(miny)}\")\n",
    "print(f\"  Northing max: {fmt_m(maxy)}\")\n",
    "print(\"Heights:\")\n",
    "print(f\"  Height min:   {fmt_m(min_h)}\")\n",
    "print(f\"  Height max:   {fmt_m(max_h)}\")\n",
    "print(\"Timings:\")\n",
    "print(f\"  Read .pos:          {read_time:.3f} s\")\n",
    "print(f\"  Calculations total: {calc_time:.3f} s\")\n",
    "print(f\"Total flight path length: {fmt_m(line.length)}\")\n",
    "print(f\"GeoPackage written: {gpkg_path} (layer: {layer_name})\")\n"
   ]
  },
  {
   "cell_type": "code",
   "execution_count": 5,
   "id": "a711d175-65fa-4dfc-bafa-375711931bdf",
   "metadata": {},
   "outputs": [
    {
     "name": "stdout",
     "output_type": "stream",
     "text": [
      "0        0.029698\n",
      "1        0.009220\n",
      "2        0.009220\n",
      "3        0.009220\n",
      "4        0.009220\n",
      "           ...   \n",
      "14360    0.007810\n",
      "14361    0.007810\n",
      "14362    0.008602\n",
      "14363    0.010000\n",
      "14364    0.010000\n",
      "Name: SDPlanimetric_m, Length: 14365, dtype: float64\n"
     ]
    }
   ],
   "source": [
    "df[\"SDPlanimetric_m\"] = np.sqrt(df[\"SDEast_m\"]**2 + df[\"SDNorth_m\"]**2)\n",
    "\n",
    "print(df[\"SDPlanimetric_m\"])\n",
    "\n",
    "import matplotlib as plt\n",
    "import pathlib as path\n",
    "\n",
    "plt.subplot"
   ]
  },
  {
   "cell_type": "code",
   "execution_count": null,
   "id": "d547c857-09af-4baf-b662-9188364b6439",
   "metadata": {},
   "outputs": [],
   "source": []
  }
 ],
 "metadata": {
  "kernelspec": {
   "display_name": "Python 3 (ipykernel)",
   "language": "python",
   "name": "python3"
  },
  "language_info": {
   "codemirror_mode": {
    "name": "ipython",
    "version": 3
   },
   "file_extension": ".py",
   "mimetype": "text/x-python",
   "name": "python",
   "nbconvert_exporter": "python",
   "pygments_lexer": "ipython3",
   "version": "3.13.5"
  }
 },
 "nbformat": 4,
 "nbformat_minor": 5
}
